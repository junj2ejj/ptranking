{
 "cells": [
  {
   "cell_type": "markdown",
   "metadata": {
    "pycharm": {
     "name": "#%% md\n"
    }
   },
   "source": [
    "## Check the statistics of a specified dataset with default setting"
   ]
  },
  {
   "cell_type": "code",
   "execution_count": 2,
   "metadata": {
    "pycharm": {
     "name": "#%%\n"
    }
   },
   "outputs": [
    {
     "ename": "FileNotFoundError",
     "evalue": "[Errno 2] No such file or directory: '/home/dl-box/WorkBench/Datasets/L2R/LETOR4.0/MQ2007/Fold1/train.txt'",
     "output_type": "error",
     "traceback": [
      "\u001B[0;31m---------------------------------------------------------------------------\u001B[0m",
      "\u001B[0;31mFileNotFoundError\u001B[0m                         Traceback (most recent call last)",
      "\u001B[0;32m<ipython-input-2-91070bc8865b>\u001B[0m in \u001B[0;36m<module>\u001B[0;34m\u001B[0m\n\u001B[1;32m     16\u001B[0m \u001B[0mbuffer\u001B[0m   \u001B[0;34m=\u001B[0m \u001B[0;32mFalse\u001B[0m\u001B[0;34m\u001B[0m\u001B[0;34m\u001B[0m\u001B[0m\n\u001B[1;32m     17\u001B[0m \u001B[0;34m\u001B[0m\u001B[0m\n\u001B[0;32m---> 18\u001B[0;31m \u001B[0mcheck_dataset_statistics\u001B[0m\u001B[0;34m(\u001B[0m\u001B[0mdata_id\u001B[0m\u001B[0;34m=\u001B[0m\u001B[0mdata_id\u001B[0m\u001B[0;34m,\u001B[0m \u001B[0mdir_data\u001B[0m\u001B[0;34m=\u001B[0m\u001B[0mdir_data\u001B[0m\u001B[0;34m,\u001B[0m \u001B[0mbuffer\u001B[0m\u001B[0;34m=\u001B[0m\u001B[0mbuffer\u001B[0m\u001B[0;34m)\u001B[0m\u001B[0;34m\u001B[0m\u001B[0;34m\u001B[0m\u001B[0m\n\u001B[0m\u001B[1;32m     19\u001B[0m \u001B[0;34m\u001B[0m\u001B[0m\n\u001B[1;32m     20\u001B[0m \u001B[0;34m\u001B[0m\u001B[0m\n",
      "\u001B[0;32m~/WorkBench/Dropbox/CodeBench/Cosmos/PycharmProjects/public-ptl2r/test/data/test_data_utils.py\u001B[0m in \u001B[0;36mcheck_dataset_statistics\u001B[0;34m(data_id, dir_data, buffer)\u001B[0m\n\u001B[1;32m    115\u001B[0m         \u001B[0mmin_doc\u001B[0m\u001B[0;34m,\u001B[0m \u001B[0mmax_doc\u001B[0m\u001B[0;34m,\u001B[0m \u001B[0msum_rele\u001B[0m \u001B[0;34m=\u001B[0m \u001B[0mget_min_max_docs\u001B[0m\u001B[0;34m(\u001B[0m\u001B[0mtrain_dataset\u001B[0m\u001B[0;34m=\u001B[0m\u001B[0mtrain_dataset\u001B[0m\u001B[0;34m,\u001B[0m \u001B[0mvali_dataset\u001B[0m\u001B[0;34m=\u001B[0m\u001B[0;32mNone\u001B[0m\u001B[0;34m,\u001B[0m \u001B[0mtest_dataset\u001B[0m\u001B[0;34m=\u001B[0m\u001B[0mtest_dataset\u001B[0m\u001B[0;34m)\u001B[0m\u001B[0;34m\u001B[0m\u001B[0;34m\u001B[0m\u001B[0m\n\u001B[1;32m    116\u001B[0m     \u001B[0;32melse\u001B[0m\u001B[0;34m:\u001B[0m\u001B[0;34m\u001B[0m\u001B[0;34m\u001B[0m\u001B[0m\n\u001B[0;32m--> 117\u001B[0;31m         \u001B[0mtrain_dataset\u001B[0m \u001B[0;34m=\u001B[0m \u001B[0mLTRDataset\u001B[0m\u001B[0;34m(\u001B[0m\u001B[0mtrain\u001B[0m\u001B[0;34m=\u001B[0m\u001B[0;32mTrue\u001B[0m\u001B[0;34m,\u001B[0m \u001B[0mfile\u001B[0m\u001B[0;34m=\u001B[0m\u001B[0mfile_train\u001B[0m\u001B[0;34m,\u001B[0m \u001B[0mdata_id\u001B[0m\u001B[0;34m=\u001B[0m\u001B[0mdata_id\u001B[0m\u001B[0;34m,\u001B[0m \u001B[0mshuffle\u001B[0m\u001B[0;34m=\u001B[0m\u001B[0;32mFalse\u001B[0m\u001B[0;34m,\u001B[0m \u001B[0mbuffer\u001B[0m\u001B[0;34m=\u001B[0m\u001B[0mbuffer\u001B[0m\u001B[0;34m)\u001B[0m\u001B[0;34m\u001B[0m\u001B[0;34m\u001B[0m\u001B[0m\n\u001B[0m\u001B[1;32m    118\u001B[0m         \u001B[0mvali_dataset\u001B[0m \u001B[0;34m=\u001B[0m  \u001B[0mLTRDataset\u001B[0m\u001B[0;34m(\u001B[0m\u001B[0mtrain\u001B[0m\u001B[0;34m=\u001B[0m\u001B[0;32mFalse\u001B[0m\u001B[0;34m,\u001B[0m \u001B[0mfile\u001B[0m\u001B[0;34m=\u001B[0m\u001B[0mfile_vali\u001B[0m\u001B[0;34m,\u001B[0m \u001B[0mdata_id\u001B[0m\u001B[0;34m=\u001B[0m\u001B[0mdata_id\u001B[0m\u001B[0;34m,\u001B[0m \u001B[0mshuffle\u001B[0m\u001B[0;34m=\u001B[0m\u001B[0;32mFalse\u001B[0m\u001B[0;34m,\u001B[0m \u001B[0mbuffer\u001B[0m\u001B[0;34m=\u001B[0m\u001B[0mbuffer\u001B[0m\u001B[0;34m)\u001B[0m\u001B[0;34m\u001B[0m\u001B[0;34m\u001B[0m\u001B[0m\n\u001B[1;32m    119\u001B[0m         \u001B[0mtest_dataset\u001B[0m \u001B[0;34m=\u001B[0m  \u001B[0mLTRDataset\u001B[0m\u001B[0;34m(\u001B[0m\u001B[0mtrain\u001B[0m\u001B[0;34m=\u001B[0m\u001B[0;32mFalse\u001B[0m\u001B[0;34m,\u001B[0m \u001B[0mfile\u001B[0m\u001B[0;34m=\u001B[0m\u001B[0mfile_test\u001B[0m\u001B[0;34m,\u001B[0m \u001B[0mdata_id\u001B[0m\u001B[0;34m=\u001B[0m\u001B[0mdata_id\u001B[0m\u001B[0;34m,\u001B[0m \u001B[0mshuffle\u001B[0m\u001B[0;34m=\u001B[0m\u001B[0;32mFalse\u001B[0m\u001B[0;34m,\u001B[0m \u001B[0mbuffer\u001B[0m\u001B[0;34m=\u001B[0m\u001B[0mbuffer\u001B[0m\u001B[0;34m)\u001B[0m\u001B[0;34m\u001B[0m\u001B[0;34m\u001B[0m\u001B[0m\n",
      "\u001B[0;32m~/WorkBench/Dropbox/CodeBench/Cosmos/PycharmProjects/public-ptl2r/ptranking/data/data_utils.py\u001B[0m in \u001B[0;36m__init__\u001B[0;34m(self, train, file, data_id, data_dict, sample_rankings_per_q, shuffle, hot, eval_dict, buffer, given_scaler)\u001B[0m\n\u001B[1;32m    565\u001B[0m                 \u001B[0mscale_data\u001B[0m \u001B[0;34m=\u001B[0m \u001B[0mdata_dict\u001B[0m\u001B[0;34m[\u001B[0m\u001B[0;34m'scale_data'\u001B[0m\u001B[0;34m]\u001B[0m\u001B[0;34m\u001B[0m\u001B[0;34m\u001B[0m\u001B[0m\n\u001B[1;32m    566\u001B[0m                 \u001B[0mscaler_id\u001B[0m \u001B[0;34m=\u001B[0m \u001B[0mdata_dict\u001B[0m\u001B[0;34m[\u001B[0m\u001B[0;34m'scaler_id'\u001B[0m\u001B[0;34m]\u001B[0m \u001B[0;32mif\u001B[0m \u001B[0;34m'scaler_id'\u001B[0m \u001B[0;32min\u001B[0m \u001B[0mdata_dict\u001B[0m \u001B[0;32melse\u001B[0m \u001B[0;32mNone\u001B[0m\u001B[0;34m\u001B[0m\u001B[0;34m\u001B[0m\u001B[0m\n\u001B[0;32m--> 567\u001B[0;31m                 \u001B[0mlist_Qs\u001B[0m \u001B[0;34m=\u001B[0m \u001B[0miter_queries\u001B[0m\u001B[0;34m(\u001B[0m\u001B[0min_file\u001B[0m\u001B[0;34m=\u001B[0m\u001B[0mfile\u001B[0m\u001B[0;34m,\u001B[0m \u001B[0mdata_dict\u001B[0m\u001B[0;34m=\u001B[0m\u001B[0mdata_dict\u001B[0m\u001B[0;34m,\u001B[0m \u001B[0mscale_data\u001B[0m\u001B[0;34m=\u001B[0m\u001B[0mscale_data\u001B[0m\u001B[0;34m,\u001B[0m \u001B[0mscaler_id\u001B[0m\u001B[0;34m=\u001B[0m\u001B[0mscaler_id\u001B[0m\u001B[0;34m,\u001B[0m \u001B[0mperquery_file\u001B[0m\u001B[0;34m=\u001B[0m\u001B[0mperquery_file\u001B[0m\u001B[0;34m,\u001B[0m \u001B[0mbuffer\u001B[0m\u001B[0;34m=\u001B[0m\u001B[0mbuffer\u001B[0m\u001B[0;34m)\u001B[0m\u001B[0;34m\u001B[0m\u001B[0;34m\u001B[0m\u001B[0m\n\u001B[0m\u001B[1;32m    568\u001B[0m \u001B[0;34m\u001B[0m\u001B[0m\n\u001B[1;32m    569\u001B[0m                 \u001B[0mlist_inds\u001B[0m \u001B[0;34m=\u001B[0m \u001B[0mlist\u001B[0m\u001B[0;34m(\u001B[0m\u001B[0mrange\u001B[0m\u001B[0;34m(\u001B[0m\u001B[0mlen\u001B[0m\u001B[0;34m(\u001B[0m\u001B[0mlist_Qs\u001B[0m\u001B[0;34m)\u001B[0m\u001B[0;34m)\u001B[0m\u001B[0;34m)\u001B[0m\u001B[0;34m\u001B[0m\u001B[0;34m\u001B[0m\u001B[0m\n",
      "\u001B[0;32m~/WorkBench/Dropbox/CodeBench/Cosmos/PycharmProjects/public-ptl2r/ptranking/data/data_utils.py\u001B[0m in \u001B[0;36miter_queries\u001B[0;34m(in_file, data_dict, scale_data, scaler_id, perquery_file, buffer)\u001B[0m\n\u001B[1;32m    413\u001B[0m \u001B[0;34m\u001B[0m\u001B[0m\n\u001B[1;32m    414\u001B[0m     \u001B[0mlist_Qs\u001B[0m \u001B[0;34m=\u001B[0m \u001B[0;34m[\u001B[0m\u001B[0;34m]\u001B[0m\u001B[0;34m\u001B[0m\u001B[0;34m\u001B[0m\u001B[0m\n\u001B[0;32m--> 415\u001B[0;31m     \u001B[0;32mwith\u001B[0m \u001B[0mopen\u001B[0m\u001B[0;34m(\u001B[0m\u001B[0min_file\u001B[0m\u001B[0;34m,\u001B[0m \u001B[0mencoding\u001B[0m\u001B[0;34m=\u001B[0m\u001B[0;34m'iso-8859-1'\u001B[0m\u001B[0;34m)\u001B[0m \u001B[0;32mas\u001B[0m \u001B[0mfile_obj\u001B[0m\u001B[0;34m:\u001B[0m\u001B[0;34m\u001B[0m\u001B[0;34m\u001B[0m\u001B[0m\n\u001B[0m\u001B[1;32m    416\u001B[0m         \u001B[0mdict_data\u001B[0m \u001B[0;34m=\u001B[0m \u001B[0mdict\u001B[0m\u001B[0;34m(\u001B[0m\u001B[0;34m)\u001B[0m\u001B[0;34m\u001B[0m\u001B[0;34m\u001B[0m\u001B[0m\n\u001B[1;32m    417\u001B[0m         \u001B[0;32mif\u001B[0m \u001B[0mhas_comment\u001B[0m\u001B[0;34m:\u001B[0m\u001B[0;34m\u001B[0m\u001B[0;34m\u001B[0m\u001B[0m\n",
      "\u001B[0;31mFileNotFoundError\u001B[0m: [Errno 2] No such file or directory: '/home/dl-box/WorkBench/Datasets/L2R/LETOR4.0/MQ2007/Fold1/train.txt'"
     ]
    }
   ],
   "source": [
    "from test.data.test_data_utils import check_dataset_statistics\n",
    "\n",
    "\n",
    "\"\"\" An example script \"\"\"\n",
    "\n",
    "''' The dataset identifier '''\n",
    "data_id  = 'MQ2007_Super'\n",
    "\n",
    "\n",
    "''' The directory of the above dataset '''\n",
    "dir_data = '/Users/dryuhaitao/WorkBench/Corpus/LETOR4.0/MQ2007/'\n",
    "#dir_data = '/home/dl-box/WorkBench/Datasets/L2R/LETOR4.0/MQ2007/'\n",
    "\n",
    "''' Whether buffer the loaded dataset as numpy.tensor & PyTorch.tensor '''\n",
    "buffer   = False\n",
    "\n",
    "check_dataset_statistics(data_id=data_id, dir_data=dir_data, buffer=buffer)\n",
    "\n"
   ]
  },
  {
   "cell_type": "code",
   "execution_count": null,
   "metadata": {},
   "outputs": [],
   "source": []
  }
 ],
 "metadata": {
  "kernelspec": {
   "name": "pycharm-443bb574",
   "language": "python",
   "display_name": "PyCharm (ptl2r)"
  },
  "language_info": {
   "codemirror_mode": {
    "name": "ipython",
    "version": 3
   },
   "file_extension": ".py",
   "mimetype": "text/x-python",
   "name": "python",
   "nbconvert_exporter": "python",
   "pygments_lexer": "ipython3",
   "version": "3.7.6"
  }
 },
 "nbformat": 4,
 "nbformat_minor": 1
}